{
 "cells": [
  {
   "cell_type": "markdown",
   "id": "b9e307cc",
   "metadata": {},
   "source": [
    " # PREDICTIVE BATTING ANALYTICS"
   ]
  },
  {
   "cell_type": "code",
   "execution_count": 2,
   "id": "eb345918",
   "metadata": {},
   "outputs": [],
   "source": [
    "import pandas as pd\n",
    "from sklearn.model_selection import train_test_split\n",
    "from sklearn.linear_model import LinearRegression\n",
    "from sklearn.metrics import mean_squared_error\n",
    "import matplotlib.pyplot as plt\n",
    "%matplotlib inline\n",
    "import numpy as np"
   ]
  },
  {
   "cell_type": "markdown",
   "id": "2304adfb",
   "metadata": {},
   "source": [
    "Reading the data from the csv file  "
   ]
  },
  {
   "cell_type": "code",
   "execution_count": 3,
   "id": "b65b2077",
   "metadata": {},
   "outputs": [],
   "source": [
    "df=pd.read_csv('https://raw.githubusercontent.com/amankharwal/Website-data/master/Virat_Kohli.csv')"
   ]
  },
  {
   "cell_type": "code",
   "execution_count": 4,
   "id": "01a1cba7",
   "metadata": {
    "scrolled": true
   },
   "outputs": [
    {
     "data": {
      "text/html": [
       "<div>\n",
       "<style scoped>\n",
       "    .dataframe tbody tr th:only-of-type {\n",
       "        vertical-align: middle;\n",
       "    }\n",
       "\n",
       "    .dataframe tbody tr th {\n",
       "        vertical-align: top;\n",
       "    }\n",
       "\n",
       "    .dataframe thead th {\n",
       "        text-align: right;\n",
       "    }\n",
       "</style>\n",
       "<table border=\"1\" class=\"dataframe\">\n",
       "  <thead>\n",
       "    <tr style=\"text-align: right;\">\n",
       "      <th></th>\n",
       "      <th>Runs</th>\n",
       "      <th>BF</th>\n",
       "      <th>4s</th>\n",
       "      <th>6s</th>\n",
       "      <th>SR</th>\n",
       "      <th>Pos</th>\n",
       "      <th>Dismissal</th>\n",
       "      <th>Inns</th>\n",
       "      <th>Opposition</th>\n",
       "      <th>Ground</th>\n",
       "      <th>Start Date</th>\n",
       "    </tr>\n",
       "  </thead>\n",
       "  <tbody>\n",
       "    <tr>\n",
       "      <th>0</th>\n",
       "      <td>12</td>\n",
       "      <td>22</td>\n",
       "      <td>1</td>\n",
       "      <td>0</td>\n",
       "      <td>54.54</td>\n",
       "      <td>2.0</td>\n",
       "      <td>lbw</td>\n",
       "      <td>1</td>\n",
       "      <td>v Sri Lanka</td>\n",
       "      <td>Dambulla</td>\n",
       "      <td>18-Aug-08</td>\n",
       "    </tr>\n",
       "    <tr>\n",
       "      <th>1</th>\n",
       "      <td>37</td>\n",
       "      <td>67</td>\n",
       "      <td>6</td>\n",
       "      <td>0</td>\n",
       "      <td>55.22</td>\n",
       "      <td>2.0</td>\n",
       "      <td>caught</td>\n",
       "      <td>2</td>\n",
       "      <td>v Sri Lanka</td>\n",
       "      <td>Dambulla</td>\n",
       "      <td>20-Aug-08</td>\n",
       "    </tr>\n",
       "    <tr>\n",
       "      <th>2</th>\n",
       "      <td>25</td>\n",
       "      <td>38</td>\n",
       "      <td>4</td>\n",
       "      <td>0</td>\n",
       "      <td>65.78</td>\n",
       "      <td>1.0</td>\n",
       "      <td>run out</td>\n",
       "      <td>1</td>\n",
       "      <td>v Sri Lanka</td>\n",
       "      <td>Colombo (RPS)</td>\n",
       "      <td>24-Aug-08</td>\n",
       "    </tr>\n",
       "    <tr>\n",
       "      <th>3</th>\n",
       "      <td>54</td>\n",
       "      <td>66</td>\n",
       "      <td>7</td>\n",
       "      <td>0</td>\n",
       "      <td>81.81</td>\n",
       "      <td>1.0</td>\n",
       "      <td>bowled</td>\n",
       "      <td>1</td>\n",
       "      <td>v Sri Lanka</td>\n",
       "      <td>Colombo (RPS)</td>\n",
       "      <td>27-Aug-08</td>\n",
       "    </tr>\n",
       "    <tr>\n",
       "      <th>4</th>\n",
       "      <td>31</td>\n",
       "      <td>46</td>\n",
       "      <td>3</td>\n",
       "      <td>1</td>\n",
       "      <td>67.39</td>\n",
       "      <td>1.0</td>\n",
       "      <td>lbw</td>\n",
       "      <td>2</td>\n",
       "      <td>v Sri Lanka</td>\n",
       "      <td>Colombo (RPS)</td>\n",
       "      <td>29-Aug-08</td>\n",
       "    </tr>\n",
       "  </tbody>\n",
       "</table>\n",
       "</div>"
      ],
      "text/plain": [
       "   Runs  BF  4s  6s     SR  Pos Dismissal  Inns   Opposition         Ground  \\\n",
       "0    12  22   1   0  54.54  2.0       lbw     1  v Sri Lanka       Dambulla   \n",
       "1    37  67   6   0  55.22  2.0    caught     2  v Sri Lanka       Dambulla   \n",
       "2    25  38   4   0  65.78  1.0   run out     1  v Sri Lanka  Colombo (RPS)   \n",
       "3    54  66   7   0  81.81  1.0    bowled     1  v Sri Lanka  Colombo (RPS)   \n",
       "4    31  46   3   1  67.39  1.0       lbw     2  v Sri Lanka  Colombo (RPS)   \n",
       "\n",
       "  Start Date  \n",
       "0  18-Aug-08  \n",
       "1  20-Aug-08  \n",
       "2  24-Aug-08  \n",
       "3  27-Aug-08  \n",
       "4  29-Aug-08  "
      ]
     },
     "execution_count": 4,
     "metadata": {},
     "output_type": "execute_result"
    }
   ],
   "source": [
    "df.head()"
   ]
  },
  {
   "cell_type": "code",
   "execution_count": 5,
   "id": "885673f3",
   "metadata": {},
   "outputs": [
    {
     "name": "stdout",
     "output_type": "stream",
     "text": [
      "<class 'pandas.core.frame.DataFrame'>\n",
      "RangeIndex: 132 entries, 0 to 131\n",
      "Data columns (total 11 columns):\n",
      " #   Column      Non-Null Count  Dtype  \n",
      "---  ------      --------------  -----  \n",
      " 0   Runs        132 non-null    int64  \n",
      " 1   BF          132 non-null    int64  \n",
      " 2   4s          132 non-null    int64  \n",
      " 3   6s          132 non-null    int64  \n",
      " 4   SR          132 non-null    float64\n",
      " 5   Pos         132 non-null    float64\n",
      " 6   Dismissal   132 non-null    object \n",
      " 7   Inns        132 non-null    int64  \n",
      " 8   Opposition  132 non-null    object \n",
      " 9   Ground      132 non-null    object \n",
      " 10  Start Date  132 non-null    object \n",
      "dtypes: float64(2), int64(5), object(4)\n",
      "memory usage: 11.5+ KB\n"
     ]
    }
   ],
   "source": [
    "df.info()"
   ]
  },
  {
   "cell_type": "code",
   "execution_count": 6,
   "id": "8a41aea7",
   "metadata": {},
   "outputs": [
    {
     "data": {
      "text/plain": [
       "v Sri Lanka       24\n",
       "v England         21\n",
       "v Australia       20\n",
       "v West Indies     19\n",
       "v South Africa    15\n",
       "v New Zealand     14\n",
       "v Bangladesh       8\n",
       "v Zimbabwe         5\n",
       "v Pakistan         4\n",
       "v Ireland          1\n",
       "v Netherlands      1\n",
       "Name: Opposition, dtype: int64"
      ]
     },
     "execution_count": 6,
     "metadata": {},
     "output_type": "execute_result"
    }
   ],
   "source": [
    "df['Opposition'].value_counts()"
   ]
  },
  {
   "cell_type": "code",
   "execution_count": 7,
   "id": "591e9f88",
   "metadata": {},
   "outputs": [
    {
     "data": {
      "text/html": [
       "<div>\n",
       "<style scoped>\n",
       "    .dataframe tbody tr th:only-of-type {\n",
       "        vertical-align: middle;\n",
       "    }\n",
       "\n",
       "    .dataframe tbody tr th {\n",
       "        vertical-align: top;\n",
       "    }\n",
       "\n",
       "    .dataframe thead th {\n",
       "        text-align: right;\n",
       "    }\n",
       "</style>\n",
       "<table border=\"1\" class=\"dataframe\">\n",
       "  <thead>\n",
       "    <tr style=\"text-align: right;\">\n",
       "      <th></th>\n",
       "      <th>Runs</th>\n",
       "      <th>BF</th>\n",
       "      <th>4s</th>\n",
       "      <th>6s</th>\n",
       "      <th>SR</th>\n",
       "      <th>Pos</th>\n",
       "      <th>Inns</th>\n",
       "    </tr>\n",
       "  </thead>\n",
       "  <tbody>\n",
       "    <tr>\n",
       "      <th>count</th>\n",
       "      <td>132.000000</td>\n",
       "      <td>132.000000</td>\n",
       "      <td>132.000000</td>\n",
       "      <td>132.000000</td>\n",
       "      <td>132.000000</td>\n",
       "      <td>132.000000</td>\n",
       "      <td>132.000000</td>\n",
       "    </tr>\n",
       "    <tr>\n",
       "      <th>mean</th>\n",
       "      <td>46.848485</td>\n",
       "      <td>50.871212</td>\n",
       "      <td>4.371212</td>\n",
       "      <td>0.545455</td>\n",
       "      <td>76.991212</td>\n",
       "      <td>3.303030</td>\n",
       "      <td>1.575758</td>\n",
       "    </tr>\n",
       "    <tr>\n",
       "      <th>std</th>\n",
       "      <td>41.994635</td>\n",
       "      <td>38.729716</td>\n",
       "      <td>4.404032</td>\n",
       "      <td>1.086795</td>\n",
       "      <td>37.874491</td>\n",
       "      <td>0.873174</td>\n",
       "      <td>0.496110</td>\n",
       "    </tr>\n",
       "    <tr>\n",
       "      <th>min</th>\n",
       "      <td>0.000000</td>\n",
       "      <td>0.000000</td>\n",
       "      <td>0.000000</td>\n",
       "      <td>0.000000</td>\n",
       "      <td>0.000000</td>\n",
       "      <td>1.000000</td>\n",
       "      <td>1.000000</td>\n",
       "    </tr>\n",
       "    <tr>\n",
       "      <th>25%</th>\n",
       "      <td>10.000000</td>\n",
       "      <td>17.750000</td>\n",
       "      <td>1.000000</td>\n",
       "      <td>0.000000</td>\n",
       "      <td>61.702500</td>\n",
       "      <td>3.000000</td>\n",
       "      <td>1.000000</td>\n",
       "    </tr>\n",
       "    <tr>\n",
       "      <th>50%</th>\n",
       "      <td>32.500000</td>\n",
       "      <td>42.500000</td>\n",
       "      <td>3.000000</td>\n",
       "      <td>0.000000</td>\n",
       "      <td>78.710000</td>\n",
       "      <td>3.000000</td>\n",
       "      <td>2.000000</td>\n",
       "    </tr>\n",
       "    <tr>\n",
       "      <th>75%</th>\n",
       "      <td>80.250000</td>\n",
       "      <td>82.250000</td>\n",
       "      <td>7.000000</td>\n",
       "      <td>1.000000</td>\n",
       "      <td>100.000000</td>\n",
       "      <td>4.000000</td>\n",
       "      <td>2.000000</td>\n",
       "    </tr>\n",
       "    <tr>\n",
       "      <th>max</th>\n",
       "      <td>154.000000</td>\n",
       "      <td>140.000000</td>\n",
       "      <td>18.000000</td>\n",
       "      <td>7.000000</td>\n",
       "      <td>209.090000</td>\n",
       "      <td>7.000000</td>\n",
       "      <td>2.000000</td>\n",
       "    </tr>\n",
       "  </tbody>\n",
       "</table>\n",
       "</div>"
      ],
      "text/plain": [
       "             Runs          BF          4s          6s          SR         Pos  \\\n",
       "count  132.000000  132.000000  132.000000  132.000000  132.000000  132.000000   \n",
       "mean    46.848485   50.871212    4.371212    0.545455   76.991212    3.303030   \n",
       "std     41.994635   38.729716    4.404032    1.086795   37.874491    0.873174   \n",
       "min      0.000000    0.000000    0.000000    0.000000    0.000000    1.000000   \n",
       "25%     10.000000   17.750000    1.000000    0.000000   61.702500    3.000000   \n",
       "50%     32.500000   42.500000    3.000000    0.000000   78.710000    3.000000   \n",
       "75%     80.250000   82.250000    7.000000    1.000000  100.000000    4.000000   \n",
       "max    154.000000  140.000000   18.000000    7.000000  209.090000    7.000000   \n",
       "\n",
       "             Inns  \n",
       "count  132.000000  \n",
       "mean     1.575758  \n",
       "std      0.496110  \n",
       "min      1.000000  \n",
       "25%      1.000000  \n",
       "50%      2.000000  \n",
       "75%      2.000000  \n",
       "max      2.000000  "
      ]
     },
     "execution_count": 7,
     "metadata": {},
     "output_type": "execute_result"
    }
   ],
   "source": [
    "df.describe()"
   ]
  },
  {
   "cell_type": "code",
   "execution_count": 8,
   "id": "c20263bb",
   "metadata": {},
   "outputs": [
    {
     "data": {
      "text/plain": [
       "6184"
      ]
     },
     "execution_count": 8,
     "metadata": {},
     "output_type": "execute_result"
    }
   ],
   "source": [
    "df[\"Runs\"].sum()"
   ]
  },
  {
   "cell_type": "code",
   "execution_count": 9,
   "id": "9d1007c8",
   "metadata": {},
   "outputs": [
    {
     "data": {
      "text/plain": [
       "Runs          0\n",
       "BF            0\n",
       "4s            0\n",
       "6s            0\n",
       "SR            0\n",
       "Pos           0\n",
       "Dismissal     0\n",
       "Inns          0\n",
       "Opposition    0\n",
       "Ground        0\n",
       "Start Date    0\n",
       "dtype: int64"
      ]
     },
     "execution_count": 9,
     "metadata": {},
     "output_type": "execute_result"
    }
   ],
   "source": [
    "df.isnull().sum()"
   ]
  },
  {
   "cell_type": "code",
   "execution_count": 10,
   "id": "075b47e4",
   "metadata": {},
   "outputs": [
    {
     "data": {
      "text/plain": [
       "Runs          132\n",
       "BF            132\n",
       "4s            132\n",
       "6s            132\n",
       "SR            132\n",
       "Pos           132\n",
       "Dismissal     132\n",
       "Inns          132\n",
       "Opposition    132\n",
       "Ground        132\n",
       "Start Date    132\n",
       "dtype: int64"
      ]
     },
     "execution_count": 10,
     "metadata": {},
     "output_type": "execute_result"
    }
   ],
   "source": [
    "df.count()"
   ]
  },
  {
   "cell_type": "code",
   "execution_count": 11,
   "id": "e9b61756",
   "metadata": {},
   "outputs": [
    {
     "data": {
      "text/plain": [
       "46.84848484848485"
      ]
     },
     "execution_count": 11,
     "metadata": {},
     "output_type": "execute_result"
    }
   ],
   "source": [
    "df['Runs'].mean()"
   ]
  },
  {
   "cell_type": "code",
   "execution_count": 12,
   "id": "e4cee098",
   "metadata": {},
   "outputs": [
    {
     "data": {
      "text/plain": [
       "Year\n",
       "2008     159\n",
       "2009     230\n",
       "2010     726\n",
       "2011    1302\n",
       "2012     444\n",
       "2013    1100\n",
       "2014     995\n",
       "2015     304\n",
       "2016     739\n",
       "2017     185\n",
       "Name: Runs, dtype: int64"
      ]
     },
     "execution_count": 12,
     "metadata": {},
     "output_type": "execute_result"
    }
   ],
   "source": [
    "\n",
    "#  Converting 'Start Date' column to datetime format\n",
    "df['Start Date'] = pd.to_datetime(df['Start Date'])\n",
    "\n",
    "# Extracting the year from the 'Start Date' column\n",
    "df['Year'] = df['Start Date'].dt.year\n",
    "runs_by_year = df.groupby('Year')['Runs'].sum()\n",
    "runs_by_year\n"
   ]
  },
  {
   "cell_type": "code",
   "execution_count": 13,
   "id": "56552da7",
   "metadata": {},
   "outputs": [
    {
     "data": {
      "image/png": "[encoded data removed]",
      "text/plain": [
       "<Figure size 1000x600 with 1 Axes>"
      ]
     },
     "metadata": {},
     "output_type": "display_data"
    }
   ],
   "source": [
    "plt.figure(figsize=(10, 6))\n",
    "plt.bar(runs_by_year.index, runs_by_year.values, color='skyblue', edgecolor='black')\n",
    "plt.xlabel('Year')\n",
    "plt.ylabel('Total Runs')\n",
    "plt.title( 'Total Runs by Year')\n",
    "plt.grid(True)\n",
    "\n",
    "# Step 2: Show the plot\n",
    "plt.show()"
   ]
  },
  {
   "cell_type": "code",
   "execution_count": 14,
   "id": "f3814b32",
   "metadata": {},
   "outputs": [
    {
     "name": "stdout",
     "output_type": "stream",
     "text": [
      "Total Number of Centuries in ODI till 2017: 23\n"
     ]
    }
   ],
   "source": [
    "df['Year'] = df['Start Date'].dt.year\n",
    "# Filtering the data for centuries\n",
    "centuries = df[df['Runs'] >= 100]\n",
    "\n",
    "# Calculating the total number of centuries\n",
    "total_centuries = centuries.shape[0]\n",
    "\n",
    "#Printing the total number of centuries\n",
    "print(\"Total Number of Centuries in ODI till 2017:\", total_centuries)\n"
   ]
  },
  {
   "cell_type": "code",
   "execution_count": 15,
   "id": "2270689b",
   "metadata": {},
   "outputs": [
    {
     "name": "stdout",
     "output_type": "stream",
     "text": [
      "Year with the most centuries: 2011\n",
      "Number of centuries: 4\n"
     ]
    }
   ],
   "source": [
    "\n",
    "#Grouping the filtered DataFrame by 'Year' column\n",
    "grouped_by_year = centuries.groupby('Year')\n",
    "\n",
    "#Counting the number of centuries in each group\n",
    "centuries_count = grouped_by_year.size()\n",
    "\n",
    "# Finding the year with the maximum count of centuries\n",
    "year_with_most_centuries = centuries_count.idxmax()\n",
    "most_centuries_count = centuries_count.max()\n",
    "\n",
    "# Printing the year with the most number of centuries\n",
    "print(\"Year with the most centuries:\", year_with_most_centuries)\n",
    "print(\"Number of centuries:\", most_centuries_count)"
   ]
  },
  {
   "cell_type": "code",
   "execution_count": 24,
   "id": "2766979c",
   "metadata": {},
   "outputs": [
    {
     "data": {
      "text/plain": [
       "649"
      ]
     },
     "execution_count": 24,
     "metadata": {},
     "output_type": "execute_result"
    }
   ],
   "source": [
    "total_fours = df['4s'].sum()\n",
    "total_sixes = df['6s'].sum()\n",
    "boundaries=total_fours+total_sixes\n",
    "boundaries"
   ]
  },
  {
   "cell_type": "code",
   "execution_count": 26,
   "id": "e385ff61",
   "metadata": {},
   "outputs": [
    {
     "data": {
      "text/plain": [
       "6715"
      ]
     },
     "execution_count": 26,
     "metadata": {},
     "output_type": "execute_result"
    }
   ],
   "source": [
    "balls_faced= df['BF'].sum()\n",
    "balls_faced"
   ]
  },
  {
   "cell_type": "code",
   "execution_count": 34,
   "id": "04a27829",
   "metadata": {},
   "outputs": [
    {
     "data": {
      "image/png": "[encoded data removed]",
      "text/plain": [
       "<Figure size 640x480 with 1 Axes>"
      ]
     },
     "metadata": {},
     "output_type": "display_data"
    }
   ],
   "source": [
    "# Plotting the scatter plot\n",
    "plt.scatter(df['BF'], df['4s'], label='Fours')\n",
    "plt.scatter(df['BF'], df['6s'], label='Sixes')\n",
    "plt.xlabel('Balls Faced')\n",
    "plt.ylabel('Number of Boundaries')\n",
    "plt.title('Balls Faced vs Boundaries (Fours and Sixes)')\n",
    "plt.legend()\n",
    "plt.show()\n"
   ]
  },
  {
   "cell_type": "code",
   "execution_count": 36,
   "id": "d08db474",
   "metadata": {},
   "outputs": [
    {
     "name": "stdout",
     "output_type": "stream",
     "text": [
      "['lbw' 'caught' 'run out' 'bowled' 'not out' 'stumped' 'hit wicket']\n"
     ]
    }
   ],
   "source": [
    "dismissals = df['Dismissal'].unique()\n",
    "print(dismissals)"
   ]
  },
  {
   "cell_type": "code",
   "execution_count": 37,
   "id": "54359a6c",
   "metadata": {},
   "outputs": [
    {
     "name": "stdout",
     "output_type": "stream",
     "text": [
      "caught        84\n",
      "not out       17\n",
      "run out       10\n",
      "bowled        10\n",
      "lbw            9\n",
      "stumped        1\n",
      "hit wicket     1\n",
      "Name: Dismissal, dtype: int64\n"
     ]
    }
   ],
   "source": [
    "dismissals_by_type = df['Dismissal'].value_counts()\n",
    "print(dismissals_by_type)"
   ]
  },
  {
   "cell_type": "markdown",
   "id": "cb746b30",
   "metadata": {},
   "source": [
    "from above output we observed that maximum dismissal done by catch"
   ]
  },
  {
   "cell_type": "markdown",
   "id": "af38772b",
   "metadata": {},
   "source": [
    "# ML- LINEAR REGRESSION"
   ]
  },
  {
   "cell_type": "code",
   "execution_count": 38,
   "id": "7b3fe63d",
   "metadata": {},
   "outputs": [],
   "source": [
    "# Preparing the data\n",
    "X = df[['BF', '4s', '6s', 'SR', 'Pos']]  # Input features\n",
    "y = df['Runs']  # Target variable"
   ]
  },
  {
   "cell_type": "code",
   "execution_count": 39,
   "id": "584a946d",
   "metadata": {},
   "outputs": [],
   "source": [
    "# Splitting the data into training and testing sets\n",
    "X_train, X_test, y_train, y_test = train_test_split(X, y, test_size=0.2, random_state=42)"
   ]
  },
  {
   "cell_type": "code",
   "execution_count": 40,
   "id": "5ad2bf59",
   "metadata": {},
   "outputs": [],
   "source": [
    "#Selecting a regression model\n",
    "model = LinearRegression()"
   ]
  },
  {
   "cell_type": "code",
   "execution_count": 41,
   "id": "a0084765",
   "metadata": {},
   "outputs": [
    {
     "data": {
      "text/plain": [
       "LinearRegression()"
      ]
     },
     "execution_count": 41,
     "metadata": {},
     "output_type": "execute_result"
    }
   ],
   "source": [
    "# Training the regression model\n",
    "model.fit(X_train, y_train)"
   ]
  },
  {
   "cell_type": "code",
   "execution_count": 42,
   "id": "b4f7c4a6",
   "metadata": {},
   "outputs": [],
   "source": [
    "# Step 5: Make predictions\n",
    "y_pred = model.predict(X_test)"
   ]
  },
  {
   "cell_type": "code",
   "execution_count": 43,
   "id": "3f93ee08",
   "metadata": {},
   "outputs": [
    {
     "data": {
      "text/plain": [
       "array([ 23.29359669, 100.8166661 ,  -4.98425975,  -1.58215336,\n",
       "        38.9985922 , 135.25164152,  26.28107092,  57.7903884 ,\n",
       "        -2.81452656,  -0.6673337 ,  95.62268314,  53.56776266,\n",
       "        93.70042374,  38.00771843,  40.85637354,  -1.92860102,\n",
       "        61.19901895,  74.65913776,  -0.6673337 ,  65.17668628,\n",
       "        31.27102087, 112.5955548 ,  -6.26806739,  84.75570109,\n",
       "       135.75107249,  43.7575695 ,  41.86283572])"
      ]
     },
     "execution_count": 43,
     "metadata": {},
     "output_type": "execute_result"
    }
   ],
   "source": [
    "y_pred"
   ]
  },
  {
   "cell_type": "code",
   "execution_count": 44,
   "id": "3f14af4a",
   "metadata": {},
   "outputs": [
    {
     "data": {
      "text/plain": [
       "1336.3032393148103"
      ]
     },
     "execution_count": 44,
     "metadata": {},
     "output_type": "execute_result"
    }
   ],
   "source": [
    "y_pred.sum()"
   ]
  },
  {
   "cell_type": "code",
   "execution_count": 45,
   "id": "821c5c6a",
   "metadata": {},
   "outputs": [
    {
     "data": {
      "text/plain": [
       "49.49271256721519"
      ]
     },
     "execution_count": 45,
     "metadata": {},
     "output_type": "execute_result"
    }
   ],
   "source": [
    "y_pred.mean()"
   ]
  },
  {
   "cell_type": "code",
   "execution_count": 51,
   "id": "6fea0b5c",
   "metadata": {},
   "outputs": [],
   "source": [
    "mse = mean_squared_error(y_test, y_pred)\n",
    "rmse = mse**0.5"
   ]
  },
  {
   "cell_type": "code",
   "execution_count": 47,
   "id": "45062982",
   "metadata": {},
   "outputs": [
    {
     "data": {
      "text/plain": [
       "(24.10634220627415, 4.909820995339254)"
      ]
     },
     "execution_count": 47,
     "metadata": {},
     "output_type": "execute_result"
    }
   ],
   "source": [
    "mse,rmse"
   ]
  },
  {
   "cell_type": "code",
   "execution_count": 48,
   "id": "756c07a6",
   "metadata": {},
   "outputs": [
    {
     "name": "stdout",
     "output_type": "stream",
     "text": [
      "Accuracy:  98.66028095156832\n"
     ]
    }
   ],
   "source": [
    "print(\"Accuracy: \",model.score(X_test, y_test) * 100)"
   ]
  },
  {
   "cell_type": "markdown",
   "id": "a72e82c7",
   "metadata": {},
   "source": [
    " # Predicting the next match runs"
   ]
  },
  {
   "cell_type": "code",
   "execution_count": 49,
   "id": "19b8c445",
   "metadata": {},
   "outputs": [
    {
     "name": "stdout",
     "output_type": "stream",
     "text": [
      "Predicted runs for the next match: [36.95733844]\n"
     ]
    },
    {
     "name": "stderr",
     "output_type": "stream",
     "text": [
      "C:\\Users\\vamsh\\anaconda3\\lib\\site-packages\\sklearn\\base.py:450: UserWarning: X does not have valid feature names, but LinearRegression was fitted with feature names\n",
      "  warnings.warn(\n"
     ]
    }
   ],
   "source": [
    "\n",
    "next_match_data = [[22, 1, 4 ,13,5]]  # Provide the input features for the next match\n",
    "next_match_runs = model.predict(next_match_data)\n",
    "print(f\"Predicted runs for the next match: {next_match_runs}\")"
   ]
  },
  {
   "cell_type": "code",
   "execution_count": 50,
   "id": "ed0139a2",
   "metadata": {},
   "outputs": [
    {
     "data": {
      "image/png": "[encoded data removed]",
      "text/plain": [
       "<Figure size 640x480 with 1 Axes>"
      ]
     },
     "metadata": {},
     "output_type": "display_data"
    }
   ],
   "source": [
    "#Creating the scatter plot\n",
    "plt.scatter(y_test, y_pred, color='blue', alpha=0.5)\n",
    "plt.xlabel('Actual Runs')\n",
    "plt.ylabel('Predicted Runs')\n",
    "plt.title('Regression Graph: Actual vs. Predicted Runs')\n",
    "\n",
    "#Adding the regression line\n",
    "plt.plot([y_test.min(), y_test.max()], [y_test.min(), y_test.max()], color='red')\n",
    "\n",
    "#Shows the plot\n",
    "plt.show()"
   ]
  },
  {
   "cell_type": "code",
   "execution_count": null,
   "id": "373b4bc7",
   "metadata": {},
   "outputs": [],
   "source": []
  }
 ],
 "metadata": {
  "kernelspec": {
   "display_name": "Python 3 (ipykernel)",
   "language": "python",
   "name": "python3"
  },
  "language_info": {
   "codemirror_mode": {
    "name": "ipython",
    "version": 3
   },
   "file_extension": ".py",
   "mimetype": "text/x-python",
   "name": "python",
   "nbconvert_exporter": "python",
   "pygments_lexer": "ipython3",
   "version": "3.9.13"
  }
 },
 "nbformat": 4,
 "nbformat_minor": 5
}
